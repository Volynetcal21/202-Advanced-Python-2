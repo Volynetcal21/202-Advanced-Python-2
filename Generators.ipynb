{
 "cells": [
  {
   "cell_type": "code",
   "execution_count": 4,
   "metadata": {},
   "outputs": [],
   "source": [
    "import numpy as np\n",
    "import sys"
   ]
  },
  {
   "attachments": {},
   "cell_type": "markdown",
   "metadata": {},
   "source": [
    "Традиционный метод создания коллекций -- инициализация массива или списка:"
   ]
  },
  {
   "cell_type": "code",
   "execution_count": 82,
   "metadata": {},
   "outputs": [],
   "source": [
    "test_array = np.ones(1000 * 1000)"
   ]
  },
  {
   "attachments": {},
   "cell_type": "markdown",
   "metadata": {},
   "source": [
    "По умолчанию тип чисел в массиве `float64`, то есть одно число занимает 8 байт в памяти"
   ]
  },
  {
   "cell_type": "code",
   "execution_count": 86,
   "metadata": {},
   "outputs": [
    {
     "data": {
      "text/plain": [
       "'float64 занимает 8 байт'"
      ]
     },
     "execution_count": 86,
     "metadata": {},
     "output_type": "execute_result"
    }
   ],
   "source": [
    "f'{test_array.dtype} занимает {test_array.dtype.itemsize} байт'"
   ]
  },
  {
   "attachments": {},
   "cell_type": "markdown",
   "metadata": {},
   "source": [
    "Таким образом, в памяти одновременно хранится большой объем информации"
   ]
  },
  {
   "cell_type": "code",
   "execution_count": 88,
   "metadata": {},
   "outputs": [
    {
     "data": {
      "text/plain": [
       "'8 Мбайт'"
      ]
     },
     "execution_count": 88,
     "metadata": {},
     "output_type": "execute_result"
    }
   ],
   "source": [
    "f'{sys.getsizeof(test_array) / 1e6:.2g} Мбайт'"
   ]
  },
  {
   "attachments": {},
   "cell_type": "markdown",
   "metadata": {},
   "source": [
    "Во многих ситуациях работа с коллекциями происходит последовательно и независимо для каждого элемента, поэтому нет необходимости хранить всю коллекцию в памяти одновременно. Для оптимизации работы с коллекциями в `python` есть объекты типа `generator`, генерирующие результат вычислений при итерации:"
   ]
  },
  {
   "cell_type": "code",
   "execution_count": 90,
   "metadata": {},
   "outputs": [
    {
     "name": "stdout",
     "output_type": "stream",
     "text": [
      "0\n",
      "1\n",
      "4\n",
      "9\n",
      "16\n",
      "25\n",
      "36\n",
      "49\n",
      "64\n",
      "81\n"
     ]
    }
   ],
   "source": [
    "test_generator = (i ** 2 for i in range(10))\n",
    "for e in test_generator:\n",
    "    print(e)"
   ]
  },
  {
   "attachments": {},
   "cell_type": "markdown",
   "metadata": {},
   "source": [
    "При этом в памяти хранится только текущий элемент, а после завершения итерации не хранится ничего:"
   ]
  },
  {
   "cell_type": "code",
   "execution_count": 91,
   "metadata": {},
   "outputs": [],
   "source": [
    "for e in test_generator:\n",
    "    print(e)"
   ]
  },
  {
   "attachments": {},
   "cell_type": "markdown",
   "metadata": {},
   "source": [
    "Чтобы получить данные из генератора надо проитерировать по нему с помощью цикла `for` явно, либо преобразовав в список, кортеж, словарь и т.д"
   ]
  },
  {
   "cell_type": "code",
   "execution_count": 93,
   "metadata": {},
   "outputs": [
    {
     "data": {
      "text/plain": [
       "((0, 1, 4, 9, 16, 25, 36, 49, 64, 81), tuple)"
      ]
     },
     "execution_count": 93,
     "metadata": {},
     "output_type": "execute_result"
    }
   ],
   "source": [
    "t = tuple(i ** 2 for i in range(10))\n",
    "t, type(t)"
   ]
  },
  {
   "attachments": {},
   "cell_type": "markdown",
   "metadata": {},
   "source": [
    "Для более сложных генераторов можно использовать синтаксис функций с ключевым словом `yield` -- неблокирующим возвратом, то есть выводом значения за пределы функции без остановки вычислений внутри нее."
   ]
  },
  {
   "cell_type": "code",
   "execution_count": 96,
   "metadata": {},
   "outputs": [
    {
     "data": {
      "text/plain": [
       "<generator object square2N at 0x00000213BDEE6F20>"
      ]
     },
     "execution_count": 96,
     "metadata": {},
     "output_type": "execute_result"
    }
   ],
   "source": [
    "def square2N(N):\n",
    "    for i in range(N):\n",
    "        yield i ** 2\n",
    "        print(i)\n",
    "\n",
    "square2N(10)"
   ]
  },
  {
   "attachments": {},
   "cell_type": "markdown",
   "metadata": {},
   "source": [
    "При этом `print` после `yield` будет вызван:"
   ]
  },
  {
   "cell_type": "code",
   "execution_count": 55,
   "metadata": {},
   "outputs": [
    {
     "name": "stdout",
     "output_type": "stream",
     "text": [
      "0\n",
      "1\n",
      "2\n",
      "3\n",
      "4\n",
      "5\n",
      "6\n",
      "7\n",
      "8\n",
      "9\n"
     ]
    },
    {
     "data": {
      "text/plain": [
       "[0, 1, 4, 9, 16, 25, 36, 49, 64, 81]"
      ]
     },
     "execution_count": 55,
     "metadata": {},
     "output_type": "execute_result"
    }
   ],
   "source": [
    "list(square2N(10))"
   ]
  },
  {
   "attachments": {},
   "cell_type": "markdown",
   "metadata": {},
   "source": [
    "Генераторы -- одна из составляющих функционального программирования в `python`. Например, с помощью генераторов можно создавать цепочки функций, которые вычисляются по требованию:"
   ]
  },
  {
   "cell_type": "code",
   "execution_count": 52,
   "metadata": {},
   "outputs": [
    {
     "data": {
      "text/plain": [
       "285.0"
      ]
     },
     "execution_count": 52,
     "metadata": {},
     "output_type": "execute_result"
    }
   ],
   "source": [
    "sum(map(lambda x: x ** 2, map(np.sqrt, test_generator)))"
   ]
  },
  {
   "attachments": {},
   "cell_type": "markdown",
   "metadata": {},
   "source": [
    "Здесь используется синтаксис lambda-функций (или анонимных функций) для сокращения длины программы и функция поэлементного применения функции `map`."
   ]
  },
  {
   "attachments": {},
   "cell_type": "markdown",
   "metadata": {},
   "source": [
    "На основе генераторов сделаны многие полезные функции стандартной библиотеки, например создание упорядоченных комбинаций из списков `zip`"
   ]
  },
  {
   "cell_type": "code",
   "execution_count": 1,
   "metadata": {},
   "outputs": [
    {
     "name": "stdout",
     "output_type": "stream",
     "text": [
      "0 10 2\n",
      "1 11 3\n",
      "2 12 4\n",
      "3 13 5\n",
      "4 14 6\n",
      "5 15 7\n",
      "6 16 8\n",
      "7 17 9\n",
      "8 18 10\n",
      "9 19 11\n"
     ]
    }
   ],
   "source": [
    "a = range(10)\n",
    "b = range(10, 25)\n",
    "c = range(2, 12)\n",
    "for i, j, k in zip(a, b, c):\n",
    "    print(i, j, k)"
   ]
  },
  {
   "attachments": {},
   "cell_type": "markdown",
   "metadata": {},
   "source": [
    "Фильтрация коллекции произвольной функцией `filter`"
   ]
  },
  {
   "cell_type": "code",
   "execution_count": 71,
   "metadata": {},
   "outputs": [
    {
     "data": {
      "text/plain": [
       "[1, 3, 5, 7, 9]"
      ]
     },
     "execution_count": 71,
     "metadata": {},
     "output_type": "execute_result"
    }
   ],
   "source": [
    "list(filter(lambda x: x % 2, range(10)))"
   ]
  },
  {
   "attachments": {},
   "cell_type": "markdown",
   "metadata": {},
   "source": [
    "Большое количество полезных генераторных функций реализовано в модулях стандартной библиотеки `functools` и `itertools`\n",
    "\n",
    "https://docs.python.org/3/library/functools.html\n",
    "\n",
    "https://docs.python.org/3/library/itertools.html\n",
    "\n",
    "Например аккумулирующая функция `reduce`"
   ]
  },
  {
   "cell_type": "code",
   "execution_count": 63,
   "metadata": {},
   "outputs": [
    {
     "name": "stdout",
     "output_type": "stream",
     "text": [
      "362880 45\n"
     ]
    }
   ],
   "source": [
    "from functools import reduce\n",
    "print(reduce(lambda x, y: x * y, range(1, 10)), sum(range(10)))"
   ]
  },
  {
   "attachments": {},
   "cell_type": "markdown",
   "metadata": {},
   "source": [
    "`zip`, итерирующий по самой длинной коллекции `zip_longest`"
   ]
  },
  {
   "cell_type": "code",
   "execution_count": 67,
   "metadata": {},
   "outputs": [
    {
     "name": "stdout",
     "output_type": "stream",
     "text": [
      "0 10\n",
      "1 11\n",
      "2 12\n",
      "3 13\n",
      "4 14\n",
      "5 15\n",
      "6 16\n",
      "7 17\n",
      "8 18\n",
      "9 19\n",
      "None 20\n",
      "None 21\n",
      "None 22\n",
      "None 23\n",
      "None 24\n"
     ]
    }
   ],
   "source": [
    "from itertools import zip_longest\n",
    "a = range(10)\n",
    "b = range(10, 25)\n",
    "for i, j in zip_longest(a, b):\n",
    "    print(i, j)"
   ]
  },
  {
   "attachments": {},
   "cell_type": "markdown",
   "metadata": {},
   "source": [
    "`cycle`, создающая бесконечный зацикленный поток элементов коллекции"
   ]
  },
  {
   "cell_type": "code",
   "execution_count": null,
   "metadata": {},
   "outputs": [],
   "source": [
    "from itertools import cycle\n",
    "for i in cycle(range(10)):\n",
    "    print(i)"
   ]
  }
 ],
 "metadata": {
  "kernelspec": {
   "display_name": "base",
   "language": "python",
   "name": "python3"
  },
  "language_info": {
   "codemirror_mode": {
    "name": "ipython",
    "version": 3
   },
   "file_extension": ".py",
   "mimetype": "text/x-python",
   "name": "python",
   "nbconvert_exporter": "python",
   "pygments_lexer": "ipython3",
   "version": "3.9.12"
  },
  "orig_nbformat": 4,
  "vscode": {
   "interpreter": {
    "hash": "86eb1e4a564685919b2b8aa3eb87820160b4599c11a902938692181984dae4a6"
   }
  }
 },
 "nbformat": 4,
 "nbformat_minor": 2
}
